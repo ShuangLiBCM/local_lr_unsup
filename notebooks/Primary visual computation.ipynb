{
 "cells": [
  {
   "cell_type": "markdown",
   "metadata": {},
   "source": [
    "### Simulation of visual stimuli"
   ]
  },
  {
   "cell_type": "markdown",
   "metadata": {},
   "source": [
    "An important aspect of visual processing is that neurons response more to the change of contrast rather than light intensity. If we use $i(x,y,t)$ to represent the spatial temporal distribution of the light intensity of a stimulus. if it is an stationary sinusodial wave of intensity in the x direciton. Then we could write it as$i(x,y,t) = i(x)$\n",
    "\n",
    "$i(x) = i_{mean}[1+c_{max}cos(2\\pi w_xx)]$\n"
   ]
  },
  {
   "cell_type": "markdown",
   "metadata": {},
   "source": [
    ", where $i_{mean}$ is the mean light intensity and $c_{max}$ is the maximal contrast. Encoding therefore happens mainly for mean light intensity and contrast. Given the large variation of light intensity between the day and night, we are more interested in the variation of light intensity around the mean, i.e., the contrast."
   ]
  },
  {
   "cell_type": "code",
   "execution_count": 43,
   "metadata": {
    "collapsed": false
   },
   "outputs": [
    {
     "name": "stdout",
     "output_type": "stream",
     "text": [
      "Populating the interactive namespace from numpy and matplotlib\n",
      "100\n"
     ]
    },
    {
     "data": {
      "text/plain": [
       "<matplotlib.text.Annotation at 0x106b23f98>"
      ]
     },
     "execution_count": 43,
     "metadata": {},
     "output_type": "execute_result"
    },
    {
     "data": {
      "image/png": "[encoded data removed]",
      "text/plain": [
       "<matplotlib.figure.Figure at 0x1069d0080>"
      ]
     },
     "metadata": {},
     "output_type": "display_data"
    }
   ],
   "source": [
    "%pylab inline \n",
    "## populate the interactive namespace for numpy and matplotlib% matplotlib inline\n",
    "\n",
    "import matplotlib.pyplot as plt\n",
    "\n",
    "a = np.linspace(0,10,100)\n",
    "zero_x = np.linspace(min(a),max(a),len(a))\n",
    "ones_y = [y+1 for y in zero_y]\n",
    "zero_y = zero_x*0;\n",
    "I_mean = 1\n",
    "I_mean_array = [x+I_mean for x in np.zeros(len(a))]\n",
    "c_max = 1\n",
    "w_x = 0.5\n",
    "c_array = np.ones(len(a))+cos(2*3.14*w_x*a)\n",
    "b = [x*y for x,y in zip(I_mean_array, c_array)]\n",
    "print(len(b))\n",
    "\n",
    "plt.plot(a,b)\n",
    "plt.plot(zero_x,ones_y,'--')\n",
    "plt.ylabel('Intensity')\n",
    "plt.xlabel('time')\n",
    "\n",
    "annotate('I_mean',xy = [0.4,1.05])\n"
   ]
  },
  {
   "cell_type": "markdown",
   "metadata": {},
   "source": [
    "### Spatial receptive field of retinal ganglion cells"
   ]
  },
  {
   "cell_type": "markdown",
   "metadata": {},
   "source": [
    "Recording from mammalian visual neurons revealed that only changes in contrast in a restricted portion of visual space affects the firing of a neuron. The spatial area that affects directly the firing activity of retinal ganglion cell is called its receptive field. "
   ]
  },
  {
   "cell_type": "markdown",
   "metadata": {},
   "source": [
    "#### Center-surround organization"
   ]
  },
  {
   "cell_type": "markdown",
   "metadata": {},
   "source": [
    "The receptive field of retinal ganglion cells are circular in shape and could be devided into two regions. For ON ganglion cell:\n",
    "1. A circular center region where an increase in luminosity causes an increase of the firing rate above its spontaneous level\n",
    "2. A circular annulus surrounding the center region where an increase in lumminosity causes a decrease in firing rate"
   ]
  },
  {
   "cell_type": "markdown",
   "metadata": {},
   "source": [
    "The OFF ganglion cell has the opposite response pattern to luminosity comparing with ON ganglion cell."
   ]
  },
  {
   "cell_type": "markdown",
   "metadata": {},
   "source": [
    "For retinal ganglion neurons, the response of cell to overlapping contrast images is approximately the linear algebraic summation of the response of cell to each stimulus.\n",
    "$R_{c_1+c_2}(t) = R_{c_1}(t) + R_{c_2}(t)$"
   ]
  },
  {
   "cell_type": "markdown",
   "metadata": {},
   "source": [
    "If we taking into consideration the receptive field property of the neuron $w(x,y)$, then the response of a certain stimuls could be writen as a linear filtering operation\n",
    "$R_c(t) = \\int\\int^{\\infty}_{-\\infty}w(x,y)c(x,y,t)dxdy$"
   ]
  },
  {
   "cell_type": "markdown",
   "metadata": {},
   "source": [
    "### Characterization of receptive field structure ($w(x,y)$)"
   ]
  },
  {
   "cell_type": "markdown",
   "metadata": {},
   "source": [
    "$w(x,y)$ characterizes the linear filtering performed by the cell. Two classical methods have been used to measure the receptive field of a neuron.The first method utilizes the flashing dots or bars at a certain location within the visual field and measure the response of the neuorn. The flashing effect could be represented with a $\\delta$ funciton on contrast.\n",
    "\n",
    "$c_{dot}(x,y,t)=\\delta(x-x_0)\\delta(y-y_0)c_{dot}(t)$ "
   ]
  },
  {
   "cell_type": "markdown",
   "metadata": {},
   "source": [
    "Putting it back to the response equation shown above, we could obtain\n",
    "\n",
    "$R_c(t) = \\int\\int^{\\infty}_{-\\infty}w(x,y)\\delta(x-x_0)\\delta(y-y_0)c_{dot}(t)dxdy = w(x_0,y_0)c_{dot}(t)$"
   ]
  },
  {
   "cell_type": "markdown",
   "metadata": {},
   "source": [
    "Therefore, the response of the neuron will be proportional to the receptive field weighted function at the point where the dot is presented.\n",
    "\n",
    "In case of retinal ganglion cells, the spatial structure of the receptive field is well described by a difference of Gaussians.\n",
    "\n",
    "$w(x,y) = k_cexp(-(r/r^2_c))-k_sexp(-(r/r_s)^2)$, where $r^2 = x^2+y^2$"
   ]
  },
  {
   "cell_type": "markdown",
   "metadata": {},
   "source": [
    "The shape is also known as \"Mexican hat\". Within the equation, $k_c$ and $k_s$ determines the relative amplitude of the ON and OFF response. $r_c$ and $r_s$ determines the region of the center and surround."
   ]
  },
  {
   "cell_type": "markdown",
   "metadata": {},
   "source": [
    "From the equation we can see that the receptive field of retinal ganglion cell is radically symmetric.Thus, if we display a one dimensional grating at the receptive field, response of the neuron will be independent of the orientation of the stimulus."
   ]
  },
  {
   "cell_type": "markdown",
   "metadata": {},
   "source": [
    "### Models of simple and complex cell"
   ]
  },
  {
   "cell_type": "code",
   "execution_count": null,
   "metadata": {
    "collapsed": true
   },
   "outputs": [],
   "source": []
  }
 ],
 "metadata": {
  "kernelspec": {
   "display_name": "Python 3",
   "language": "python",
   "name": "python3"
  },
  "language_info": {
   "codemirror_mode": {
    "name": "ipython",
    "version": 3
   },
   "file_extension": ".py",
   "mimetype": "text/x-python",
   "name": "python",
   "nbconvert_exporter": "python",
   "pygments_lexer": "ipython3",
   "version": "3.5.0"
  }
 },
 "nbformat": 4,
 "nbformat_minor": 0
}
