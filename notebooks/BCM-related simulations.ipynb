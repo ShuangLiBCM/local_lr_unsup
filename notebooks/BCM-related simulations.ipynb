{
 "cells": [
  {
   "cell_type": "markdown",
   "metadata": {},
   "source": [
    "Given the requirement of BCM theory $\\frac{dw_{ij}}{dt}=\\gamma\\Phi[\\rho_{j},\\theta(<\\rho_{j}>)]\\rho_{i}$\n",
    ",study the different dependency of $\\Phi$ on $\\theta(<\\rho_{j}>)$"
   ]
  },
  {
   "cell_type": "markdown",
   "metadata": {},
   "source": [
    "if $\\theta = 1,\\Phi = \\rho_{j}(\\rho_{j}-1)$"
   ]
  },
  {
   "cell_type": "code",
   "execution_count": 5,
   "metadata": {
    "collapsed": false
   },
   "outputs": [
    {
     "data": {
      "text/plain": [
       "<matplotlib.text.Text at 0x1068cf0b8>"
      ]
     },
     "execution_count": 5,
     "metadata": {},
     "output_type": "execute_result"
    },
    {
     "data": {
      "image/png": "[encoded data removed]",
      "text/plain": [
       "<matplotlib.figure.Figure at 0x1067f6668>"
      ]
     },
     "metadata": {},
     "output_type": "display_data"
    }
   ],
   "source": [
    "% matplotlib inline\n",
    "import numpy as np\n",
    "import matplotlib.pyplot as plt\n",
    "\n",
    "a = np.linspace(0,2,11)\n",
    "zero_x = np.linspace(min(a),max(a),len(a))\n",
    "zero_y = zero_x*0;\n",
    "\n",
    "b = a*(a-1)\n",
    "plt.plot(a,b)\n",
    "plt.plot(zero_x,zero_y,'--')\n",
    "plt.ylabel('$\\Phi$')\n",
    "plt.xlabel(r'$\\rho$')"
   ]
  },
  {
   "cell_type": "code",
   "execution_count": 17,
   "metadata": {
    "collapsed": false
   },
   "outputs": [],
   "source": [
    "a = np.linspace(-5,5,50)"
   ]
  },
  {
   "cell_type": "code",
   "execution_count": 18,
   "metadata": {
    "collapsed": false
   },
   "outputs": [
    {
     "data": {
      "text/plain": [
       "[-5.0,\n",
       " -4.795918367346939,\n",
       " -4.591836734693878,\n",
       " -4.3877551020408161,\n",
       " -4.1836734693877551,\n",
       " -3.9795918367346941,\n",
       " -3.7755102040816326,\n",
       " -3.5714285714285712,\n",
       " -3.3673469387755102,\n",
       " -3.1632653061224492,\n",
       " -2.9591836734693877,\n",
       " -2.7551020408163263,\n",
       " -2.5510204081632653,\n",
       " -2.3469387755102042,\n",
       " -2.1428571428571428,\n",
       " -1.9387755102040813,\n",
       " -1.7346938775510203,\n",
       " -1.5306122448979593,\n",
       " -1.3265306122448979,\n",
       " -1.1224489795918364,\n",
       " -0.91836734693877542,\n",
       " -0.71428571428571441,\n",
       " -0.51020408163265252,\n",
       " -0.30612244897959151,\n",
       " -0.1020408163265305,\n",
       " 0.1020408163265305,\n",
       " 0.30612244897959151,\n",
       " 0.51020408163265341,\n",
       " 0.71428571428571441,\n",
       " 0.91836734693877542,\n",
       " 1.1224489795918373,\n",
       " 1.3265306122448983,\n",
       " 1.5306122448979593,\n",
       " 1.7346938775510203,\n",
       " 1.9387755102040813,\n",
       " 2.1428571428571432,\n",
       " 2.3469387755102042,\n",
       " 2.5510204081632653,\n",
       " 2.7551020408163271,\n",
       " 2.9591836734693882,\n",
       " 3.1632653061224492,\n",
       " 3.3673469387755102,\n",
       " 3.5714285714285712,\n",
       " 3.7755102040816322,\n",
       " 3.979591836734695,\n",
       " 4.183673469387756,\n",
       " 4.387755102040817,\n",
       " 4.591836734693878,\n",
       " 4.795918367346939,\n",
       " 5.0]"
      ]
     },
     "execution_count": 18,
     "metadata": {},
     "output_type": "execute_result"
    }
   ],
   "source": [
    "list(a)"
   ]
  },
  {
   "cell_type": "code",
   "execution_count": 16,
   "metadata": {
    "collapsed": false
   },
   "outputs": [],
   "source": [
    "np.linspace?"
   ]
  },
  {
   "cell_type": "code",
   "execution_count": null,
   "metadata": {
    "collapsed": true
   },
   "outputs": [],
   "source": []
  }
 ],
 "metadata": {
  "kernelspec": {
   "display_name": "Python 3",
   "language": "python",
   "name": "python3"
  },
  "language_info": {
   "codemirror_mode": {
    "name": "ipython",
    "version": 3
   },
   "file_extension": ".py",
   "mimetype": "text/x-python",
   "name": "python",
   "nbconvert_exporter": "python",
   "pygments_lexer": "ipython3",
   "version": "3.4.3"
  }
 },
 "nbformat": 4,
 "nbformat_minor": 0
}
