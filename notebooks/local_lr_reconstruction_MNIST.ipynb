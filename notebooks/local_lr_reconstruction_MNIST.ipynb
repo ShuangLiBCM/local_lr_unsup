{
 "cells": [
  {
   "cell_type": "markdown",
   "metadata": {},
   "source": [
    "Lower layer has QBCM+weight decay. Upper layer is a linear layer to learn reconstruction, and updated using gradient descent on L2 loss (do not back-propagate to lower layer). Trained on MNIST dataset, pre-centered at zero-mean, mini-batch size 100. Trained with a bottleneck dimension 40 (input dimension 784)"
   ]
  },
  {
   "cell_type": "code",
   "execution_count": 4,
   "metadata": {
    "collapsed": false
   },
   "outputs": [],
   "source": [
    "import numpy as np\n",
    "import tensorflow as tf\n",
    "from tensorflow.contrib.layers import fully_connected\n",
    "import matplotlib.pyplot as plt\n",
    "\n",
    "% matplotlib inline"
   ]
  },
  {
   "cell_type": "code",
   "execution_count": null,
   "metadata": {
    "collapsed": true
   },
   "outputs": [],
   "source": [
    "# Build the network\n",
    "n_input = 784\n",
    "n_hidden1 = 40\n",
    "n_output = 784\n",
    "\n",
    "learning_rate = 0.0001\n",
    "activation =tf.nn.relu\n",
    "initializer = tf.contrib.layers.variance_scaling_initializer()\n",
    "\n",
    "X=tf.placeholder(tf.float32, shape=(None, n_inputs))\n",
    "\n",
    "weights1_init = initializer([n_inputs, n_hidden1])\n",
    "weights2_init = initializer([n_hidden1, n_output])\n",
    "\n",
    "weights1 = tf.Variable(weights1_init, dtype=tf.float32, name='weights1')\n",
    "weights2 = tf.Variable(weights2_init, dtype=tf.float32, name='weights2')\n",
    "\n",
    "hidden1 = activation(tf.matmul(X, weights1))\n",
    "outputs = tf.matmul(hidden1, weights2)\n",
    "\n",
    "optimizer = tf.train.AdamOptimizer(learning_rate)\n",
    "\n",
    "# Train lower layer with QBCM rule\n",
    "with tf.name_scope(\"phase1\"):\n",
    "    phase1_output = hidden1\n",
    "    \n",
    "    "
   ]
  }
 ],
 "metadata": {
  "kernelspec": {
   "display_name": "Python 3",
   "language": "python",
   "name": "python3"
  },
  "language_info": {
   "codemirror_mode": {
    "name": "ipython",
    "version": 3
   },
   "file_extension": ".py",
   "mimetype": "text/x-python",
   "name": "python",
   "nbconvert_exporter": "python",
   "pygments_lexer": "ipython3",
   "version": "3.5.2"
  }
 },
 "nbformat": 4,
 "nbformat_minor": 2
}
