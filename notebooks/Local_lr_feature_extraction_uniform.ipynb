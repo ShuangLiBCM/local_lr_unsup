{
 "cells": [
  {
   "cell_type": "markdown",
   "metadata": {
    "deletable": true,
    "editable": true
   },
   "source": [
    "1. Implement Oja's rule, Sanger's rule, Foldiak's rule and BCM rule on Laplacian\n",
    "2. Compare using linear, Relu, Sigmoid, tanh activation function"
   ]
  },
  {
   "cell_type": "code",
   "execution_count": 1,
   "metadata": {
    "collapsed": false,
    "deletable": true,
    "editable": true
   },
   "outputs": [],
   "source": [
    "# Import libraries\n",
    "%reset -f\n",
    "%reload_ext autoreload\n",
    "\n",
    "# %load BCM_running.py\n",
    "\n",
    "import tensorflow as tf\n",
    "import numpy as np\n",
    "import matplotlib.pyplot as plt\n",
    "import argparse\n",
    "import seaborn as sns\n",
    "%matplotlib inline\n",
    "from local_lr import data_loader\n",
    "from local_lr import BCM_cl\n",
    "from local_lr import BCM_fully_connect_cl as BCM\n",
    "# Reset tf.app.flags.FLAGS\n",
    "\n",
    "from tensorflow.python.framework import ops\n",
    "ops.reset_default_graph()"
   ]
  },
  {
   "cell_type": "code",
   "execution_count": 2,
   "metadata": {
    "collapsed": false,
    "deletable": true,
    "editable": true
   },
   "outputs": [
    {
     "name": "stderr",
     "output_type": "stream",
     "text": [
      "/usr/local/lib/python3.5/dist-packages/matplotlib/font_manager.py:1297: UserWarning: findfont: Font family ['sans-serif'] not found. Falling back to DejaVu Sans\n",
      "  (prop.get_family(), self.defaultFamily[fontext]))\n"
     ]
    },
    {
     "data": {
      "image/png": "[encoded data removed]",
      "text/plain": [
       "<matplotlib.figure.Figure at 0x7f9440a3d5f8>"
      ]
     },
     "metadata": {},
     "output_type": "display_data"
    }
   ],
   "source": [
    "# Load dataset\n",
    "data, data_w = data_loader.load_laplace(loc = 0, scale = 1, sample_size = 1000 , dimension = 2,skew = False, whiten = True, rotation = False, Affine = False, iffigure = True)\n",
    "# Plot the scaled version of independent direction\n",
    "w_tmp = data_w\n",
    "w_tmp = w_tmp * 0.5\n",
    "plt.plot([0,w_tmp[0][0]/np.sqrt(np.sum(np.square(w_tmp[0])))],[0,w_tmp[0][1]/np.sqrt(np.sum(np.square(w_tmp[0])))],'k')\n",
    "plt.plot([0,w_tmp[1][0]/np.sqrt(np.sum(np.square(w_tmp[1])))],[0,w_tmp[1][1]/np.sqrt(np.sum(np.square(w_tmp[1])))],'k')\n",
    "#plt.plot(data_w[:,0], data_w[:,1],'.k', ms=4)\n",
    "plt.gca().set_aspect(1)"
   ]
  },
  {
   "cell_type": "code",
   "execution_count": 4,
   "metadata": {
    "collapsed": false,
    "deletable": true,
    "editable": true
   },
   "outputs": [
    {
     "data": {
      "text/plain": [
       "(['# Load data and prepare the data for BCM training\\n',\n",
       "  '# Implemented Iris data and laplace data\\n',\n",
       "  '\\n',\n",
       "  'import numpy as np\\n',\n",
       "  'import matplotlib as mpl\\n',\n",
       "  'import matplotlib.pyplot as plt\\n',\n",
       "  'from time import time\\n',\n",
       "  'import seaborn as sns\\n',\n",
       "  'from sklearn import datasets\\n',\n",
       "  'from scipy import stats\\n',\n",
       "  'import pandas as pd\\n',\n",
       "  '\\n',\n",
       "  '# Import Iris data from sklean\\n',\n",
       "  '# This data sets consists of 3 different types of irises’ (Setosa, Versicolour, and Virginica) petal and sepal length, stored in a 150x4 numpy.ndarray\\n',\n",
       "  '# http://scikit-learn.org/stable/auto_examples/datasets/plot_iris_dataset.html\\n',\n",
       "  'def load_Iris(whiten = True):\\n',\n",
       "  '\\t\\n',\n",
       "  \"\\tdf = pd.read_csv('https://archive.ics.uci.edu/ml/machine-learning-databases/iris/iris.data', header=None)\\n\",\n",
       "  '\\t#df = datasets.load_iris()\\n',\n",
       "  '\\tdf.tail()   # Visualize in the table last rows of the dataframe\\n',\n",
       "  '\\n',\n",
       "  '\\ty = df.iloc[:, 4].values  # pandas dataframe, select data by location index\\n',\n",
       "  \"\\ty = np.where(y == 'Iris-setosa',1,-1)\\n\",\n",
       "  '\\ts_rt = df.iloc[:,[0,2]].values\\n',\n",
       "  '\\t\\n',\n",
       "  '\\t## Remove the mean\\n',\n",
       "  '\\ts_rt = s_rt - s_rt.mean(axis = 0)\\n',\n",
       "  '\\n',\n",
       "  '\\t## Perform zca whitenning\\n',\n",
       "  '\\tif whiten:\\n',\n",
       "  '\\t\\tZCAMatrix = zca_whitening_matrix(s_rt.T)\\n',\n",
       "  '\\t\\ts_rt_wt = np.dot(s_rt,ZCAMatrix)\\n',\n",
       "  '\\telse: \\n',\n",
       "  '\\t\\ts_rt_wt = s_rt\\n',\n",
       "  '\\n',\n",
       "  '\\t# Generate 2d satter plot of the whitened data\\n',\n",
       "  \"\\tdf = pd.DataFrame({'x':s_rt_wt[:,0],'y':s_rt_wt[:,1]})\\n\",\n",
       "  '\\tg = sns.jointplot(x=\"x\", y=\"y\", data=df)\\n',\n",
       "  '\\tg.plot_joint(plt.scatter, c=\"gray\", s=10, linewidth=.1, marker=\".\")\\n',\n",
       "  '\\tg.ax_joint.collections[0].set_alpha(0)\\n',\n",
       "  '\\tg.set_axis_labels(\"Dimension 1\", \"Dimension 2\")\\n',\n",
       "  '\\n',\n",
       "  \"\\tplt.scatter(s_rt_wt[:50,0],s_rt_wt[:50,1],color = 'red',marker = 'o',label = 'setosa')\\n\",\n",
       "  \"\\tplt.scatter(s_rt_wt[50:150,0],s_rt_wt[50:150,1],color = 'blue', marker = '*', label = 'versicolor')\\n\",\n",
       "  \"\\tplt.xlabel('petal length')\\n\",\n",
       "  \"\\tplt.ylabel('sepal length')\\n\",\n",
       "  \"\\tplt.legend(loc = 'upper left')\\n\",\n",
       "  '\\n',\n",
       "  '\\treturn s_rt_wt, g\\n',\n",
       "  '\\n',\n",
       "  '\\n',\n",
       "  '# Generate laplace distributed data\\n',\n",
       "  '\\n',\n",
       "  'def load_laplace(loc = 0, scale = 1, sample_size = 1000 , dimension = 2,skew = False, whiten = True, rotation = False, Affine = False, iffigure = True):\\n',\n",
       "  '\\t\"\"\"Generate laplacian distributed data\\n',\n",
       "  '\\t    Args:\\n',\n",
       "  '\\t        loc: float, the position of the distribution peak. Default is 0.\\n',\n",
       "  '\\t        scale: float, the exponential decay. Default is 1\\n',\n",
       "  '\\t        sample_size: int, number of samples\\n',\n",
       "  '\\t        dimension: int, number of dimensions\\n',\n",
       "  '\\t        skew: boolean, whether to introduce skewness to the data\\n',\n",
       "  '\\t        whiten: boolean, whether to perform whitening on the data\\n',\n",
       "  '\\t        rotation: boolean, whether to introduce rotation\\n',\n",
       "  '\\t        Affine: boolean, whether to introduce affine transformation\\n',\n",
       "  '\\t        iffigure: whether to plot the sampled data\\n',\n",
       "  '\\t    Returns:\\n',\n",
       "  '\\t        s_rt_wt: sample_size * dimension, generated data\\n',\n",
       "  '\\t        w_rt_wt: 1 * dimension, ground truth independent direction to track transformation\\n',\n",
       "  '\\t\"\"\"\\n',\n",
       "  '\\n',\n",
       "  '\\n',\n",
       "  '\\t# Sample from the laplace distribution\\n',\n",
       "  '\\ts = np.random.laplace(loc,scale,[sample_size,dimension])  \\n',\n",
       "  '\\tw = np.eye(2)\\n',\n",
       "  '\\n',\n",
       "  '\\t# make data skewed with a half-squaring\\n',\n",
       "  '\\n',\n",
       "  '\\tif skew:\\n',\n",
       "  '\\t\\ts[:,1] = stats.skewnorm.rvs(14., size=len(s))\\n',\n",
       "  \"\\t\\ttitle_ori = 'Skewed original distribution'\\n\",\n",
       "  '\\telse:\\n',\n",
       "  \"\\t\\ttitle_ori = 'Original distribution'\\n\",\n",
       "  '\\n',\n",
       "  '\\t# # plot original distribution\\n',\n",
       "  '\\t# if iffigure:\\n',\n",
       "  \"\\t# \\tdf = pd.DataFrame({'x':s[:,0],'y':s[:,1]})\\n\",\n",
       "  '\\t# \\tg = sns.jointplot(x=\"x\", y=\"y\", data=df)\\n',\n",
       "  '\\t# \\tg.plot_joint(plt.scatter, c=\"gray\", s=10, linewidth=.1, marker=\".\")\\n',\n",
       "  '\\t# \\t# sns.plt.title(title_ori)\\n',\n",
       "  '\\t# \\tg.ax_joint.collections[0].set_alpha(0)\\n',\n",
       "  '\\t# \\tg.set_axis_labels(\"Dimension 1\", \"Dimension 2\")\\n',\n",
       "  '\\n',\n",
       "  '\\t# Conduct rotation and mixture\\n',\n",
       "  '\\t# Generate rotation matrix\\n',\n",
       "  '\\tA = np.eye(2)\\n',\n",
       "  '\\tif rotation:\\n',\n",
       "  '\\t\\ttheta = np.pi/4      # 45 degree rotation\\n',\n",
       "  '\\t\\tA = np.array(((np.cos(theta),- np.sin(theta)),(np.sin(theta), np.cos(theta))))\\n',\n",
       "  \"\\t\\ttitle_trans = 'Rotated distribution'\\n\",\n",
       "  '\\telif Affine:\\n',\n",
       "  '\\t\\tA = np.random.randn(dimension,dimension)\\n',\n",
       "  \"\\t\\ttitle_trans = 'Affine tranformed distribution'\\n\",\n",
       "  '\\t#A = np.dot(A, A.T)\\n',\n",
       "  '\\n',\n",
       "  '\\ts_rt = np.dot(s,A)\\n',\n",
       "  '\\tw_rt = np.dot(w,A)\\n',\n",
       "  '\\n',\n",
       "  '\\t# # plot mixed distribution\\n',\n",
       "  '\\t# if iffigure:\\n',\n",
       "  \"\\t# \\tdf = pd.DataFrame({'x':s_rt[:,0],'y':s_rt[:,1]})\\n\",\n",
       "  '\\t# \\t# sns.plt.title(title_trans)\\n',\n",
       "  '\\t# \\tg = sns.jointplot(x=\"x\", y=\"y\", data=df)\\n',\n",
       "  '\\t# \\tg.plot_joint(plt.scatter, c=\"gray\", s=10, linewidth=.1, marker=\".\")\\n',\n",
       "  '\\t# \\tg.ax_joint.collections[0].set_alpha(0)\\n',\n",
       "  '\\t# \\tg.set_axis_labels(\"Dimension 1\", \"Dimension 2\")\\n',\n",
       "  '\\n',\n",
       "  '\\tif whiten:\\n',\n",
       "  '\\t\\t# Demean is critical, especially for skewed data\\n',\n",
       "  '\\t\\ts_rt = s_rt - s_rt.mean(axis = 0)\\n',\n",
       "  '\\t\\tZCAMatrix = zca_whitening_matrix(s_rt.T)\\n',\n",
       "  '\\t\\ts_rt_wt = np.dot(s_rt,ZCAMatrix)\\n',\n",
       "  '\\t\\tw_rt_wt = np.dot(w_rt,ZCAMatrix)\\n',\n",
       "  '\\t\\t# plot mixed distribution\\n',\n",
       "  '\\telse:\\n',\n",
       "  '\\t\\ts_rt_wt = s_rt\\n',\n",
       "  '\\t\\tw_rt_wt = w_rt\\n',\n",
       "  '\\n',\n",
       "  '\\tif iffigure:\\n',\n",
       "  \"\\t\\tdf = pd.DataFrame({'x': s_rt_wt[:, 0], 'y': s_rt_wt[:, 1]})\\n\",\n",
       "  '\\t\\tg = sns.jointplot(x=\"x\", y=\"y\", data=df)\\n',\n",
       "  '\\t\\tg.plot_joint(plt.scatter, c=\"gray\", s=10, linewidth=.1, marker=\".\")\\n',\n",
       "  '\\t\\tg.ax_joint.collections[0].set_alpha(0)\\n',\n",
       "  '\\t\\tg.set_axis_labels(\"Dimension 1\", \"Dimension 2\")\\n',\n",
       "  '\\n',\n",
       "  '\\treturn s_rt_wt, w_rt_wt\\n',\n",
       "  '\\t\\t\\n',\n",
       "  'def load_uniform(loc = 0, scale = 1, sample_size = 1000 , dimension = 2,skew = False, whiten = True, rotation = False, Affine = False, iffigure = True):\\n',\n",
       "  '\\t# Sample from the laplace distribution\\n',\n",
       "  '\\ts = np.random.uniform(loc,scale,[sample_size,dimension])  \\n',\n",
       "  '\\tw = np.eye(2)\\n',\n",
       "  '\\t# make data skewed with a half-squaring\\n',\n",
       "  '\\n',\n",
       "  '\\t# make data skewed with a half-squaring\\n',\n",
       "  '\\n',\n",
       "  '\\tif skew:\\n',\n",
       "  '\\t\\ts[:,1] = stats.skewnorm.rvs(14., size=len(s))\\n',\n",
       "  \"\\t\\ttitle_ori = 'Skewed original distribution'\\n\",\n",
       "  '\\telse:\\n',\n",
       "  \"\\t\\ttitle_ori = 'Original distribution'\\n\",\n",
       "  '\\n',\n",
       "  '\\t# plot original distribution\\n',\n",
       "  '\\tif iffigure:\\n',\n",
       "  \"\\t\\tdf = pd.DataFrame({'x':s[:,0],'y':s[:,1]})\\n\",\n",
       "  '\\t\\tg = sns.jointplot(x=\"x\", y=\"y\", data=df)\\n',\n",
       "  '\\t\\tg.plot_joint(plt.scatter, c=\"gray\", s=10, linewidth=.1, marker=\".\")\\n',\n",
       "  '\\t\\t# sns.plt.title(title_ori)\\n',\n",
       "  '\\t\\tg.ax_joint.collections[0].set_alpha(0)\\n',\n",
       "  '\\t\\tg.set_axis_labels(\"Dimension 1\", \"Dimension 2\")\\n',\n",
       "  '\\n',\n",
       "  '\\t# Conduct rotation and mixture\\n',\n",
       "  '\\t# Generate rotation matrix\\n',\n",
       "  '\\tA = np.eye(2)\\n',\n",
       "  '\\tif rotation:\\n',\n",
       "  '\\t\\ttheta = np.pi/4      # 45 degree rotation\\n',\n",
       "  '\\t\\tA = np.array(((np.cos(theta),- np.sin(theta)),(np.sin(theta), np.cos(theta))))\\n',\n",
       "  \"\\t\\ttitle_trans = 'Rotated distribution'\\n\",\n",
       "  '\\telif Affine:\\n',\n",
       "  '\\t\\tA = np.random.randn(dimension,dimension)\\n',\n",
       "  \"\\t\\ttitle_trans = 'Affine tranformed distribution'\\n\",\n",
       "  '\\t#A = np.dot(A, A.T)\\n',\n",
       "  '\\n',\n",
       "  '\\ts_rt = np.dot(s,A)\\n',\n",
       "  '\\tw_rt = np.dot(w,A)\\n',\n",
       "  '\\n',\n",
       "  '\\t# plot mixed distribution\\n',\n",
       "  '\\tif iffigure:\\n',\n",
       "  \"\\t\\tdf = pd.DataFrame({'x':s_rt[:,0],'y':s_rt[:,1]})\\n\",\n",
       "  '\\t\\t# sns.plt.title(title_trans)\\n',\n",
       "  '\\t\\tg = sns.jointplot(x=\"x\", y=\"y\", data=df)\\n',\n",
       "  '\\t\\tg.plot_joint(plt.scatter, c=\"gray\", s=10, linewidth=.1, marker=\".\")\\n',\n",
       "  '\\t\\tg.ax_joint.collections[0].set_alpha(0)\\n',\n",
       "  '\\t\\tg.set_axis_labels(\"Dimension 1\", \"Dimension 2\")\\n',\n",
       "  '\\n',\n",
       "  '\\tif whiten:\\n',\n",
       "  '\\t\\t# Demean is critical, especially for skewed data\\n',\n",
       "  '\\t\\ts_rt = s_rt - s_rt.mean(axis = 0)\\n',\n",
       "  '\\t\\tZCAMatrix = zca_whitening_matrix(s_rt.T)\\n',\n",
       "  '\\t\\ts_rt_wt = np.dot(s_rt,ZCAMatrix)\\n',\n",
       "  '\\t\\tw_rt_wt = np.dot(w_rt,ZCAMatrix)\\n',\n",
       "  '\\t\\t# plot mixed distribution\\n',\n",
       "  '\\t\\tif iffigure:\\n',\n",
       "  \"\\t\\t\\tdf = pd.DataFrame({'x':s_rt_wt[:,0],'y':s_rt_wt[:,1]})\\n\",\n",
       "  '\\t\\t\\tg = sns.jointplot(x=\"x\", y=\"y\", data=df)\\n',\n",
       "  '\\t\\t\\tg.plot_joint(plt.scatter, c=\"gray\", s=10, linewidth=.1, marker=\".\")\\n',\n",
       "  '\\t\\t\\tg.ax_joint.collections[0].set_alpha(0)\\n',\n",
       "  '\\t\\t\\tg.set_axis_labels(\"Dimension 1\", \"Dimension 2\")\\n',\n",
       "  '\\telse: \\n',\n",
       "  '\\t\\ts_rt_wt = s_rt\\n',\n",
       "  '\\t\\tw_rt_wt = w_rt\\n',\n",
       "  '\\n',\n",
       "  '\\treturn s_rt_wt, w_rt_wt \\n',\n",
       "  '\\n',\n",
       "  '# Perform zca whitening\\n',\n",
       "  'def zca_whitening_matrix(X):\\n',\n",
       "  '    \"\"\"\\n',\n",
       "  '    Function to compute ZCA whitening matrix (aka Mahalanobis whitening).\\n',\n",
       "  '    INPUT:  X: [M x N] matrix.\\n',\n",
       "  '        Rows: Variables\\n',\n",
       "  '        Columns: Observations\\n',\n",
       "  '    OUTPUT: ZCAMatrix: [M x M] matrix\\n',\n",
       "  '    \"\"\"\\n',\n",
       "  \"    # Covariance matrix [column-wise variables]: Sigma = (X-mu)' * (X-mu) / N\\n\",\n",
       "  '    sigma = np.cov(X, rowvar=True) # [M x M]\\n',\n",
       "  '    # Singular Value Decomposition. X = U * np.diag(S) * V\\n',\n",
       "  '    U,S,V = np.linalg.svd(sigma)\\n',\n",
       "  '        # U: [M x M] eigenvectors of sigma.\\n',\n",
       "  '        # S: [M x 1] eigenvalues of sigma.\\n',\n",
       "  '        # V: [M x M] transpose of U\\n',\n",
       "  '    # Whitening constant: prevents division by zero\\n',\n",
       "  '    epsilon = 1e-5\\n',\n",
       "  \"    # ZCA Whitening matrix: U * Lambda * U'\\n\",\n",
       "  '    ZCAMatrix = np.dot(U, np.dot(np.diag(1.0/np.sqrt(S + epsilon)), U.T)) # [M x M]\\n',\n",
       "  '    #ZCAMatrix = np.dot(U, np.diag(1.0/np.sqrt(S + epsilon))) # [M x M]\\n',\n",
       "  '    return ZCAMatrix\\n'],\n",
       " 0)"
      ]
     },
     "execution_count": 4,
     "metadata": {},
     "output_type": "execute_result"
    }
   ],
   "source": [
    "import inspect\n",
    "inspect.getsourcelines(data_loader)"
   ]
  },
  {
   "cell_type": "code",
   "execution_count": 3,
   "metadata": {
    "collapsed": false,
    "deletable": true,
    "editable": true
   },
   "outputs": [
    {
     "ename": "AttributeError",
     "evalue": "module 'local_lr.data_loader' has no attribute 'data_visu_2d'",
     "output_type": "error",
     "traceback": [
      "\u001b[0;31m---------------------------------------------------------------------------\u001b[0m",
      "\u001b[0;31mAttributeError\u001b[0m                            Traceback (most recent call last)",
      "\u001b[0;32m<ipython-input-3-b3aed6193991>\u001b[0m in \u001b[0;36m<module>\u001b[0;34m()\u001b[0m\n\u001b[1;32m      8\u001b[0m \u001b[0mPC2\u001b[0m \u001b[0;34m=\u001b[0m \u001b[0mpca\u001b[0m\u001b[0;34m.\u001b[0m\u001b[0mcomponents_\u001b[0m\u001b[0;34m\u001b[0m\u001b[0m\n\u001b[1;32m      9\u001b[0m \u001b[0;34m\u001b[0m\u001b[0m\n\u001b[0;32m---> 10\u001b[0;31m \u001b[0mdata_loader\u001b[0m\u001b[0;34m.\u001b[0m\u001b[0mdata_visu_2d\u001b[0m\u001b[0;34m(\u001b[0m\u001b[0mdata\u001b[0m\u001b[0;34m)\u001b[0m\u001b[0;34m\u001b[0m\u001b[0m\n\u001b[0m",
      "\u001b[0;31mAttributeError\u001b[0m: module 'local_lr.data_loader' has no attribute 'data_visu_2d'"
     ]
    }
   ],
   "source": [
    "# Obtain PCA and ICA components\n",
    "from sklearn.decomposition import PCA\n",
    "from sklearn.decomposition import FastICA\n",
    "import pandas as pd\n",
    "\n",
    "pca = PCA(n_components=2)\n",
    "pca.fit_transform(data)\n",
    "PC2 = pca.components_\n",
    "\n",
    "data_loader.data_visu_2d(data)"
   ]
  },
  {
   "cell_type": "code",
   "execution_count": 13,
   "metadata": {
    "collapsed": false,
    "deletable": true,
    "editable": true
   },
   "outputs": [
    {
     "data": {
      "text/plain": [
       "<matplotlib.collections.PathCollection at 0x7ffaf152a7f0>"
      ]
     },
     "execution_count": 13,
     "metadata": {},
     "output_type": "execute_result"
    },
    {
     "name": "stderr",
     "output_type": "stream",
     "text": [
      "/usr/local/lib/python3.5/dist-packages/matplotlib/font_manager.py:1297: UserWarning: findfont: Font family ['sans-serif'] not found. Falling back to DejaVu Sans\n",
      "  (prop.get_family(), self.defaultFamily[fontext]))\n"
     ]
    },
    {
     "data": {
      "image/png": "[encoded data removed]",
      "text/plain": [
       "<matplotlib.figure.Figure at 0x7ffaf155d198>"
      ]
     },
     "metadata": {},
     "output_type": "display_data"
    }
   ],
   "source": [
    "form local_lr.data_loader import "
   ]
  },
  {
   "cell_type": "code",
   "execution_count": 12,
   "metadata": {
    "collapsed": false,
    "deletable": true,
    "editable": true
   },
   "outputs": [
    {
     "data": {
      "text/plain": [
       "(1000, 2)"
      ]
     },
     "execution_count": 12,
     "metadata": {},
     "output_type": "execute_result"
    }
   ],
   "source": [
    "data.shape"
   ]
  },
  {
   "cell_type": "code",
   "execution_count": 5,
   "metadata": {
    "collapsed": true,
    "deletable": true,
    "editable": true
   },
   "outputs": [],
   "source": [
    "# Training results Oja's rule + linear, Relu, Sigmoid, tanh"
   ]
  },
  {
   "cell_type": "code",
   "execution_count": null,
   "metadata": {
    "collapsed": true,
    "deletable": true,
    "editable": true
   },
   "outputs": [],
   "source": [
    "# Training results Sanger's rule + linear, Relu, Sigmoid, tanh# "
   ]
  },
  {
   "cell_type": "code",
   "execution_count": 6,
   "metadata": {
    "collapsed": true,
    "deletable": true,
    "editable": true
   },
   "outputs": [],
   "source": [
    "# Training results BCM rule + linear, Relu, Sigmoid, tanh# "
   ]
  }
 ],
 "metadata": {
  "kernelspec": {
   "display_name": "Python 3",
   "language": "python",
   "name": "python3"
  },
  "language_info": {
   "codemirror_mode": {
    "name": "ipython",
    "version": 3
   },
   "file_extension": ".py",
   "mimetype": "text/x-python",
   "name": "python",
   "nbconvert_exporter": "python",
   "pygments_lexer": "ipython3",
   "version": "3.5.2"
  }
 },
 "nbformat": 4,
 "nbformat_minor": 2
}
