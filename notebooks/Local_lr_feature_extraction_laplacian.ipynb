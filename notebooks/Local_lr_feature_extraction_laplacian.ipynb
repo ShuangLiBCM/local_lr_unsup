{
 "cells": [
  {
   "cell_type": "markdown",
   "metadata": {
    "deletable": true,
    "editable": true
   },
   "source": [
    "1. Implement Oja's rule, Sanger's rule, Foldiak's rule and BCM rule on Laplacian\n",
    "2. Compare using linear, Relu, Sigmoid, tanh activation function"
   ]
  },
  {
   "cell_type": "code",
   "execution_count": 1,
   "metadata": {
    "collapsed": false,
    "deletable": true,
    "editable": true
   },
   "outputs": [],
   "source": [
    "# Import libraries\n",
    "%reset -f\n",
    "%reload_ext autoreload\n",
    "\n",
    "# %load BCM_running.py\n",
    "\n",
    "import tensorflow as tf\n",
    "import numpy as np\n",
    "import matplotlib.pyplot as plt\n",
    "import argparse\n",
    "import seaborn as sns\n",
    "%matplotlib inline\n",
    "from local_lr import data_loader\n",
    "from local_lr import BCM_cl\n",
    "from local_lr import BCM_fully_connect_cl as BCM\n",
    "# Reset tf.app.flags.FLAGS\n",
    "\n",
    "from tensorflow.python.framework import ops\n",
    "ops.reset_default_graph()\n",
    "\n",
    "from sklearn.decomposition import PCA\n",
    "from sklearn.decomposition import FastICA"
   ]
  },
  {
   "cell_type": "code",
   "execution_count": 2,
   "metadata": {
    "collapsed": false,
    "deletable": true,
    "editable": true
   },
   "outputs": [
    {
     "name": "stderr",
     "output_type": "stream",
     "text": [
      "/usr/local/lib/python3.5/dist-packages/matplotlib/font_manager.py:1297: UserWarning: findfont: Font family ['sans-serif'] not found. Falling back to DejaVu Sans\n",
      "  (prop.get_family(), self.defaultFamily[fontext]))\n"
     ]
    },
    {
     "data": {
      "text/plain": [
       "<matplotlib.legend.Legend at 0x7f0de658e4e0>"
      ]
     },
     "execution_count": 2,
     "metadata": {},
     "output_type": "execute_result"
    },
    {
     "data": {
      "image/png": "[encoded data removed]",
      "text/plain": [
       "<matplotlib.figure.Figure at 0x7f0de8acf668>"
      ]
     },
     "metadata": {},
     "output_type": "display_data"
    }
   ],
   "source": [
    "# Load dataset\n",
    "data, data_w = data_loader.load_laplace(loc = 0, scale = 1, sample_size = 1000 , dimension = 2,skew = False, whiten = False, rotation = False, Affine = False, iffigure = True)\n",
    "# Plot the scaled version of independent direction (unit length)\n",
    "w_tmp = data_w\n",
    "w_norm = np.sqrt(np.sum(np.square(w_tmp), keepdims=True, axis=1))\n",
    "w_tmp = w_tmp/w_norm \n",
    "\n",
    "plt.plot([0,w_tmp[0][0]],[0,w_tmp[0][1]],'k', label = 'Ground truth')\n",
    "plt.plot([0,w_tmp[1][0]],[0,w_tmp[1][1]],'k')\n",
    "#plt.plot(data_w[:,0], data_w[:,1],'.k', ms=4)\n",
    "plt.gca().set_aspect(1)\n",
    "\n",
    "pca = PCA(n_components=2)\n",
    "pca.fit_transform(data)\n",
    "PC2 = pca.components_\n",
    "\n",
    "ica = FastICA(n_components=2)\n",
    "ica.fit_transform(data)\n",
    "IC2 = pca.components_\n",
    "\n",
    "plt.plot([0,PC2[0][0]], [0,PC2[1][0]], 'r', label = 'PC')\n",
    "plt.plot([0,PC2[0][1]], [0,PC2[1][1]], 'r', )\n",
    "plt.plot([0,IC2[0][0]], [0,IC2[1][0]], 'b', label = 'IC')\n",
    "plt.plot([0,IC2[0][1]], [0,IC2[1][1]], 'b', )\n",
    "plt.legend()"
   ]
  },
  {
   "cell_type": "code",
   "execution_count": 3,
   "metadata": {
    "collapsed": false,
    "deletable": true,
    "editable": true
   },
   "outputs": [],
   "source": [
    "# Train with Oja's learning rule, plot the trajectory\n",
    "from local_lr import Oja_cl\n",
    "\n",
    "learning_rate = 0.0001\n",
    "epoch = 2000\n",
    "np.random.seed(1)\n",
    "n_input = 2\n",
    "n_output = 2\n",
    "w_init = np.random.randn(n_input, n_output)\n",
    "nonlinear= [None, 'relu', 'sigmoid', 'tanh']\n",
    "\n",
    "kwarg = {}\n",
    "w_track = {}\n",
    "w_final = {}\n",
    "for i in range(len(nonlinear)):\n",
    "    w_track_tmp = []\n",
    "    oja_fw, oja_up = Oja_cl.oja(eta=learning_rate, act=nonlinear[i])\n",
    "    kwarg['w'] = w_init\n",
    "    for j in range(epoch):\n",
    "        w_track_tmp.append(kwarg['w'].reshape(-1,1))\n",
    "        y = oja_fw(data, **kwarg)\n",
    "        kwarg = oja_up(data, y, **kwarg)\n",
    "    w_track[nonlinear[i]] = w_track_tmp\n",
    "    w_final[nonlinear[i]] = kwarg['w']"
   ]
  },
  {
   "cell_type": "code",
   "execution_count": 4,
   "metadata": {
    "collapsed": false
   },
   "outputs": [
    {
     "data": {
      "text/plain": [
       "(4, 2000)"
      ]
     },
     "execution_count": 4,
     "metadata": {},
     "output_type": "execute_result"
    }
   ],
   "source": [
    "test = np.hstack(w_track[None])\n",
    "test.shape"
   ]
  },
  {
   "cell_type": "code",
   "execution_count": 5,
   "metadata": {
    "collapsed": false
   },
   "outputs": [
    {
     "data": {
      "text/plain": [
       "array([[-0.9972069 , -0.07468873],\n",
       "       [ 0.07468873, -0.9972069 ]])"
      ]
     },
     "execution_count": 5,
     "metadata": {},
     "output_type": "execute_result"
    }
   ],
   "source": [
    "PC2"
   ]
  },
  {
   "cell_type": "code",
   "execution_count": 6,
   "metadata": {
    "collapsed": false
   },
   "outputs": [
    {
     "data": {
      "text/plain": [
       "array([[ 0.99760319, -0.99760319],\n",
       "       [ 0.06919452, -0.06919452]])"
      ]
     },
     "execution_count": 6,
     "metadata": {},
     "output_type": "execute_result"
    }
   ],
   "source": [
    "w_final[None]"
   ]
  },
  {
   "cell_type": "code",
   "execution_count": 7,
   "metadata": {
    "collapsed": false
   },
   "outputs": [
    {
     "name": "stderr",
     "output_type": "stream",
     "text": [
      "/usr/local/lib/python3.5/dist-packages/matplotlib/font_manager.py:1297: UserWarning: findfont: Font family ['sans-serif'] not found. Falling back to DejaVu Sans\n",
      "  (prop.get_family(), self.defaultFamily[fontext]))\n"
     ]
    },
    {
     "data": {
      "image/png": "[encoded data removed]",
      "text/plain": [
       "<matplotlib.figure.Figure at 0x7f0de6674dd8>"
      ]
     },
     "metadata": {},
     "output_type": "display_data"
    }
   ],
   "source": [
    "# Plot the training trajectory\n",
    "n_row = n_output \n",
    "n_col = 4\n",
    "\n",
    "fig, ax = plt.subplots(n_row ,n_col, sharex=True, sharey=True)\n",
    "fig.set_figheight(5)\n",
    "fig.set_figwidth(15)\n",
    "for i in range(n_row):\n",
    "    for j in range(n_col):\n",
    "        nonlinear_type = nonlinear[j]\n",
    "        bcm_data_w = np.hstack(w_track[nonlinear_type])\n",
    "        if n_row > 1:\n",
    "            g = ax[i][j]\n",
    "        else:\n",
    "            g = ax[j]\n",
    "        \n",
    "        g.plot(bcm_data_w[i * n_row,:], bcm_data_w[i * n_row+1,:], 'm', rasterized= True)\n",
    "        g.plot(bcm_data_w[i * n_row,-1], bcm_data_w[i * n_row+1,-1], 'y*', ms=15, rasterized= True)\n",
    "        g.set_title(nonlinear_type)\n",
    "        g.plot(bcm_data_w[i * n_row, 0], bcm_data_w[i * n_row+1, 0], 'k*', ms=15, rasterized= True)\n",
    "        g.set_xlim([-5,5])\n",
    "        g.set_ylim([-5,5])\n",
    "        \n",
    "        g.plot([0,PC2[0][0]], [0,PC2[1][0]], 'r', label = 'PC')\n",
    "        g.plot([0,PC2[0][1]], [0,PC2[1][1]], 'r', )\n",
    "        g.plot([0,IC2[0][0]], [0,IC2[1][0]], 'b', label = 'IC')\n",
    "        g.plot([0,IC2[0][1]], [0,IC2[1][1]], 'b', )\n",
    "        g.legend()"
   ]
  },
  {
   "cell_type": "code",
   "execution_count": 8,
   "metadata": {
    "collapsed": false,
    "deletable": true,
    "editable": true
   },
   "outputs": [],
   "source": [
    "# Train with Oja's learning rule, plot the trajectory\n",
    "from local_lr import Sanger_cl\n",
    "\n",
    "learning_rate = 0.0001\n",
    "epoch = 2000\n",
    "np.random.seed(1)\n",
    "n_input = 2\n",
    "n_output = 2\n",
    "w_init = np.random.randn(n_input, n_output)\n",
    "nonlinear= [None, 'relu', 'sigmoid', 'tanh']\n",
    "\n",
    "kwarg = {}\n",
    "w_track = {}\n",
    "w_final = {}\n",
    "for i in range(len(nonlinear)):\n",
    "    w_track_tmp = []\n",
    "    sanger_fw, sanger_up = Sanger_cl.sanger(eta=learning_rate, act=nonlinear[i])\n",
    "    kwarg['w'] = w_init\n",
    "    for j in range(epoch):\n",
    "        w_track_tmp.append(kwarg['w'].reshape(-1,1))\n",
    "        y = sanger_fw(data, **kwarg)\n",
    "        kwarg = sanger_up(data, y, **kwarg)\n",
    "    w_track[nonlinear[i]] = w_track_tmp\n",
    "    w_final[nonlinear[i]] = kwarg['w']"
   ]
  },
  {
   "cell_type": "code",
   "execution_count": 9,
   "metadata": {
    "collapsed": false,
    "deletable": true,
    "editable": true
   },
   "outputs": [
    {
     "data": {
      "text/plain": [
       "array([[-0.9972069 , -0.07468873],\n",
       "       [ 0.07468873, -0.9972069 ]])"
      ]
     },
     "execution_count": 9,
     "metadata": {},
     "output_type": "execute_result"
    }
   ],
   "source": [
    "PC2"
   ]
  },
  {
   "cell_type": "code",
   "execution_count": 10,
   "metadata": {
    "collapsed": false
   },
   "outputs": [
    {
     "data": {
      "text/plain": [
       "array([[ 0.99760319,  0.06919452],\n",
       "       [ 0.06919452, -0.99760319]])"
      ]
     },
     "execution_count": 10,
     "metadata": {},
     "output_type": "execute_result"
    }
   ],
   "source": [
    "w_final[None]"
   ]
  },
  {
   "cell_type": "code",
   "execution_count": 11,
   "metadata": {
    "collapsed": false
   },
   "outputs": [
    {
     "name": "stderr",
     "output_type": "stream",
     "text": [
      "/usr/local/lib/python3.5/dist-packages/matplotlib/font_manager.py:1297: UserWarning: findfont: Font family ['sans-serif'] not found. Falling back to DejaVu Sans\n",
      "  (prop.get_family(), self.defaultFamily[fontext]))\n"
     ]
    },
    {
     "data": {
      "image/png": "[encoded data removed]",
      "text/plain": [
       "<matplotlib.figure.Figure at 0x7f0de8aa2f60>"
      ]
     },
     "metadata": {},
     "output_type": "display_data"
    }
   ],
   "source": [
    "# Plot the training trajectory\n",
    "n_row = n_output \n",
    "n_col = 4\n",
    "\n",
    "fig, ax = plt.subplots(n_row ,n_col, sharex=True, sharey=True)\n",
    "fig.set_figheight(5)\n",
    "fig.set_figwidth(15)\n",
    "for i in range(n_row):\n",
    "    for j in range(n_col):\n",
    "        nonlinear_type = nonlinear[j]\n",
    "        bcm_data_w = np.hstack(w_track[nonlinear_type])\n",
    "        if n_row > 1:\n",
    "            g = ax[i][j]\n",
    "        else:\n",
    "            g = ax[j]\n",
    "        \n",
    "        g.plot(bcm_data_w[i * n_row,:], bcm_data_w[i * n_row+1,:], 'm', rasterized= True)\n",
    "        g.plot(bcm_data_w[i * n_row,-1], bcm_data_w[i * n_row+1,-1], 'y*', ms=15, rasterized= True)\n",
    "        g.set_title(nonlinear_type)\n",
    "        g.plot(bcm_data_w[i * n_row, 0], bcm_data_w[i * n_row+1, 0], 'k*', ms=15, rasterized= True)\n",
    "        g.set_xlim([-5,5])\n",
    "        g.set_ylim([-5,5])\n",
    "        \n",
    "        g.plot([0,PC2[0][0]], [0,PC2[1][0]], 'r', label = 'PC')\n",
    "        g.plot([0,PC2[0][1]], [0,PC2[1][1]], 'r', )\n",
    "        g.plot([0,IC2[0][0]], [0,IC2[1][0]], 'b', label = 'IC')\n",
    "        g.plot([0,IC2[0][1]], [0,IC2[1][1]], 'b', )\n",
    "        g.legend()"
   ]
  },
  {
   "cell_type": "code",
   "execution_count": 18,
   "metadata": {
    "collapsed": false,
    "deletable": true,
    "editable": true
   },
   "outputs": [],
   "source": [
    "# Train with Foldiaks's learning rule, plot the trajectory\n",
    "from local_lr import Foldiak_cl\n",
    "\n",
    "learning_rate = 0.0001\n",
    "epoch = 3000\n",
    "np.random.seed(1)\n",
    "n_input = 2\n",
    "n_output = 2\n",
    "w_init = np.random.randn(n_input, n_output)\n",
    "q_init = -1 * np.tril(np.random.rand(n_output,n_output), -1)\n",
    "nonlinear= [None, 'relu', 'sigmoid', 'tanh']\n",
    "\n",
    "kwarg = {}\n",
    "w_track = {}\n",
    "w_final = {}\n",
    "for i in range(len(nonlinear)):\n",
    "    w_track_tmp = []\n",
    "    foldiak_fw, foldiak_up = Foldiak_cl.foldiak(eta=learning_rate, act=nonlinear[i])\n",
    "    kwarg['w'] = w_init\n",
    "    kwarg['q'] = q_init\n",
    "    for j in range(epoch):\n",
    "        w_track_tmp.append(kwarg['w'].reshape(-1,1))\n",
    "        y = foldiak_fw(data, **kwarg)\n",
    "        kwarg = foldiak_up(data, y, **kwarg)\n",
    "    w_track[nonlinear[i]] = w_track_tmp\n",
    "    w_final[nonlinear[i]] = kwarg['w']"
   ]
  },
  {
   "cell_type": "code",
   "execution_count": 19,
   "metadata": {
    "collapsed": false
   },
   "outputs": [
    {
     "data": {
      "text/plain": [
       "array([[-0.9972069 , -0.07468873],\n",
       "       [ 0.07468873, -0.9972069 ]])"
      ]
     },
     "execution_count": 19,
     "metadata": {},
     "output_type": "execute_result"
    }
   ],
   "source": [
    "PC2"
   ]
  },
  {
   "cell_type": "code",
   "execution_count": 20,
   "metadata": {
    "collapsed": false
   },
   "outputs": [
    {
     "data": {
      "text/plain": [
       "array([[ 0.06919452, -0.99760319],\n",
       "       [-0.99760319, -0.06919452]])"
      ]
     },
     "execution_count": 20,
     "metadata": {},
     "output_type": "execute_result"
    }
   ],
   "source": [
    "w_final[None]"
   ]
  },
  {
   "cell_type": "code",
   "execution_count": 21,
   "metadata": {
    "collapsed": false,
    "deletable": true,
    "editable": true
   },
   "outputs": [
    {
     "name": "stderr",
     "output_type": "stream",
     "text": [
      "/usr/local/lib/python3.5/dist-packages/matplotlib/font_manager.py:1297: UserWarning: findfont: Font family ['sans-serif'] not found. Falling back to DejaVu Sans\n",
      "  (prop.get_family(), self.defaultFamily[fontext]))\n"
     ]
    },
    {
     "data": {
      "image/png": "[encoded data removed]",
      "text/plain": [
       "<matplotlib.figure.Figure at 0x7f0de5c0c208>"
      ]
     },
     "metadata": {},
     "output_type": "display_data"
    }
   ],
   "source": [
    "# Plot the training trajectory\n",
    "n_row = n_output \n",
    "n_col = 4\n",
    "\n",
    "fig, ax = plt.subplots(n_row ,n_col, sharex=True, sharey=True)\n",
    "fig.set_figheight(5)\n",
    "fig.set_figwidth(15)\n",
    "for i in range(n_row):\n",
    "    for j in range(n_col):\n",
    "        nonlinear_type = nonlinear[j]\n",
    "        bcm_data_w = np.hstack(w_track[nonlinear_type])\n",
    "        if n_row > 1:\n",
    "            g = ax[i][j]\n",
    "        else:\n",
    "            g = ax[j]\n",
    "        \n",
    "        g.plot(bcm_data_w[i * n_row,:], bcm_data_w[i * n_row+1,:], 'm', rasterized= True)\n",
    "        g.plot(bcm_data_w[i * n_row,-1], bcm_data_w[i * n_row+1,-1], 'y*', ms=15, rasterized= True)\n",
    "        g.set_title(nonlinear_type)\n",
    "        g.plot(bcm_data_w[i * n_row, 0], bcm_data_w[i * n_row+1, 0], 'k*', ms=15, rasterized= True)\n",
    "        g.set_xlim([-5,5])\n",
    "        g.set_ylim([-5,5])\n",
    "        \n",
    "        g.plot([0,PC2[0][0]], [0,PC2[1][0]], 'r', label = 'PC')\n",
    "        g.plot([0,PC2[0][1]], [0,PC2[1][1]], 'r', )\n",
    "        g.plot([0,IC2[0][0]], [0,IC2[1][0]], 'b', label = 'IC')\n",
    "        g.plot([0,IC2[0][1]], [0,IC2[1][1]], 'b', )\n",
    "        g.legend()"
   ]
  },
  {
   "cell_type": "code",
   "execution_count": 16,
   "metadata": {
    "collapsed": true,
    "deletable": true,
    "editable": true
   },
   "outputs": [],
   "source": [
    "# Training results BCM rule + linear, Relu, Sigmoid, tanh# "
   ]
  }
 ],
 "metadata": {
  "kernelspec": {
   "display_name": "Python 3",
   "language": "python",
   "name": "python3"
  },
  "language_info": {
   "codemirror_mode": {
    "name": "ipython",
    "version": 3
   },
   "file_extension": ".py",
   "mimetype": "text/x-python",
   "name": "python",
   "nbconvert_exporter": "python",
   "pygments_lexer": "ipython3",
   "version": "3.5.2"
  }
 },
 "nbformat": 4,
 "nbformat_minor": 2
}
