{
 "cells": [
  {
   "cell_type": "code",
   "execution_count": 8,
   "metadata": {
    "collapsed": false,
    "deletable": true,
    "editable": true
   },
   "outputs": [],
   "source": [
    "class Solution:\n",
    "    \"\"\"\n",
    "    @param s: a string which consists of lowercase or uppercase letters\n",
    "    @return: the length of the longest palindromes that can be built\n",
    "    \"\"\"\n",
    "    def longestPalindrome(self, s):\n",
    "        # write your code here\n",
    "        \n",
    "        list_char = []\n",
    "        if (len(s) == 0) or (s is None):\n",
    "            length_out = 0\n",
    "        else:\n",
    "            length_out = 0\n",
    "            for i in range(len(s)):\n",
    "            \n",
    "                if s[i] not in list_char:\n",
    "                    list_char.append(s[i])\n",
    "                else:\n",
    "                    list_char.remove(s[i])\n",
    "                    length_out += 2\n",
    "            if len(list_char) > 0:\n",
    "                length_out += 1\n",
    "        \n",
    "        return length_out"
   ]
  },
  {
   "cell_type": "code",
   "execution_count": 9,
   "metadata": {
    "collapsed": true,
    "deletable": true,
    "editable": true
   },
   "outputs": [],
   "source": [
    "test = Solution()"
   ]
  },
  {
   "cell_type": "code",
   "execution_count": 10,
   "metadata": {
    "collapsed": false,
    "deletable": true,
    "editable": true
   },
   "outputs": [
    {
     "data": {
      "text/plain": [
       "5"
      ]
     },
     "execution_count": 10,
     "metadata": {},
     "output_type": "execute_result"
    }
   ],
   "source": [
    "a = 'abbbbbd'\n",
    "test.longestPalindrome(a)"
   ]
  },
  {
   "cell_type": "code",
   "execution_count": 11,
   "metadata": {
    "collapsed": true,
    "deletable": true,
    "editable": true
   },
   "outputs": [],
   "source": [
    "a = 'absc,sdfesr,sdf'"
   ]
  },
  {
   "cell_type": "code",
   "execution_count": 56,
   "metadata": {
    "collapsed": false,
    "deletable": true,
    "editable": true
   },
   "outputs": [],
   "source": [
    "class Solution:\n",
    "    \"\"\"\n",
    "    @param s: A string\n",
    "    @return: Whether the string is a valid palindrome\n",
    "    \"\"\"\n",
    "    def isPalindrome(self, s):\n",
    "        # write your code here\n",
    "        \n",
    "        if s is None:\n",
    "            vali_pali = False\n",
    "        elif len(s) == 0:\n",
    "            vali_pali = True\n",
    "        else:\n",
    "            s_low = s.lower()\n",
    "            \n",
    "        #    s_format = ''.join([s_low[i] for i in range(len(s_low)) if (s_low[i].isalpha())|(s_low[i].isnumeric())])\n",
    "            \n",
    "            s_format = ''.join([s_low[i] for i in range(len(s_low)) if ('a'<=s_low[i]<='z') | ('0'<=s_low[i]<='9')])\n",
    "            \n",
    "            len_s_format = len(s_format)\n",
    "            \n",
    "            vali_pali = True\n",
    "            \n",
    "            if len_s_format % 2 == 0:\n",
    "                for i in range(int(len_s_format/2)):\n",
    "                    \n",
    "                    if s_format[i] != s_format[len_s_format - i - 1]:\n",
    "                        vali_pali = False\n",
    "                        break\n",
    "            else:\n",
    "                \n",
    "                for i in range(int((len_s_format-1)/2)):\n",
    "                    \n",
    "                    if s_format[i] != s_format[len_s_format - i - 1]:\n",
    "                        vali_pali = False\n",
    "                        break\n",
    "\n",
    "        return vali_pali"
   ]
  },
  {
   "cell_type": "code",
   "execution_count": 57,
   "metadata": {
    "collapsed": true,
    "deletable": true,
    "editable": true
   },
   "outputs": [],
   "source": [
    "test = Solution()"
   ]
  },
  {
   "cell_type": "code",
   "execution_count": 58,
   "metadata": {
    "collapsed": false,
    "deletable": true,
    "editable": true
   },
   "outputs": [
    {
     "data": {
      "text/plain": [
       "False"
      ]
     },
     "execution_count": 58,
     "metadata": {},
     "output_type": "execute_result"
    }
   ],
   "source": [
    "a = '1a2'\n",
    "test.isPalindrome(a)"
   ]
  },
  {
   "cell_type": "code",
   "execution_count": 60,
   "metadata": {
    "collapsed": false,
    "deletable": true,
    "editable": true
   },
   "outputs": [],
   "source": [
    "a = ''"
   ]
  },
  {
   "cell_type": "code",
   "execution_count": 61,
   "metadata": {
    "collapsed": false,
    "deletable": true,
    "editable": true
   },
   "outputs": [
    {
     "ename": "IndexError",
     "evalue": "string index out of range",
     "output_type": "error",
     "traceback": [
      "\u001b[0;31m---------------------------------------------------------------------------\u001b[0m",
      "\u001b[0;31mIndexError\u001b[0m                                Traceback (most recent call last)",
      "\u001b[0;32m<ipython-input-61-5ccf417d7af1>\u001b[0m in \u001b[0;36m<module>\u001b[0;34m()\u001b[0m\n\u001b[0;32m----> 1\u001b[0;31m \u001b[0ma\u001b[0m\u001b[0;34m[\u001b[0m\u001b[0;36m0\u001b[0m\u001b[0;34m]\u001b[0m\u001b[0;34m\u001b[0m\u001b[0m\n\u001b[0m",
      "\u001b[0;31mIndexError\u001b[0m: string index out of range"
     ]
    }
   ],
   "source": [
    "a[0]"
   ]
  },
  {
   "cell_type": "code",
   "execution_count": 62,
   "metadata": {
    "collapsed": false,
    "deletable": true,
    "editable": true
   },
   "outputs": [
    {
     "data": {
      "text/plain": [
       "False"
      ]
     },
     "execution_count": 62,
     "metadata": {},
     "output_type": "execute_result"
    }
   ],
   "source": [
    "a is None"
   ]
  },
  {
   "cell_type": "code",
   "execution_count": 63,
   "metadata": {
    "collapsed": true,
    "deletable": true,
    "editable": true
   },
   "outputs": [],
   "source": [
    "a = 10"
   ]
  },
  {
   "cell_type": "code",
   "execution_count": 68,
   "metadata": {
    "collapsed": false
   },
   "outputs": [
    {
     "data": {
      "text/plain": [
       "3"
      ]
     },
     "execution_count": 68,
     "metadata": {},
     "output_type": "execute_result"
    }
   ],
   "source": [
    "int(a ** 0.5 + 0.5)"
   ]
  },
  {
   "cell_type": "code",
   "execution_count": 70,
   "metadata": {
    "collapsed": false
   },
   "outputs": [
    {
     "data": {
      "text/plain": [
       "25.69046515733026"
      ]
     },
     "execution_count": 70,
     "metadata": {},
     "output_type": "execute_result"
    }
   ],
   "source": [
    "660 ** 0.5"
   ]
  },
  {
   "cell_type": "code",
   "execution_count": 7,
   "metadata": {
    "collapsed": true
   },
   "outputs": [],
   "source": [
    "class Solution:\n",
    "    \"\"\"\n",
    "    @param n: an integer\n",
    "    @return: an ineger f(n)\n",
    "    \"\"\"\n",
    "    def fibonacci(self, n):\n",
    "        # write your code here\n",
    "        \n",
    "        # Use recursion\n",
    "        \n",
    "        if n < 2:\n",
    "            return n\n",
    "        else:\n",
    "            return self.fibonacci(n - 1) + self.fibonacci(n - 2)"
   ]
  },
  {
   "cell_type": "code",
   "execution_count": 8,
   "metadata": {
    "collapsed": true
   },
   "outputs": [],
   "source": [
    "test = Solution()"
   ]
  },
  {
   "cell_type": "code",
   "execution_count": 9,
   "metadata": {
    "collapsed": false
   },
   "outputs": [
    {
     "data": {
      "text/plain": [
       "6765"
      ]
     },
     "execution_count": 9,
     "metadata": {},
     "output_type": "execute_result"
    }
   ],
   "source": [
    "test.fibonacci(20)"
   ]
  },
  {
   "cell_type": "code",
   "execution_count": 74,
   "metadata": {
    "collapsed": true
   },
   "outputs": [],
   "source": [
    "def factorial(n):\n",
    "    if n == 0:\n",
    "        return 1\n",
    "    else:\n",
    "        return n * factorial(n - 1)"
   ]
  },
  {
   "cell_type": "code",
   "execution_count": 75,
   "metadata": {
    "collapsed": false
   },
   "outputs": [
    {
     "data": {
      "text/plain": [
       "3628800"
      ]
     },
     "execution_count": 75,
     "metadata": {},
     "output_type": "execute_result"
    }
   ],
   "source": [
    "factorial(10)"
   ]
  },
  {
   "cell_type": "code",
   "execution_count": 22,
   "metadata": {
    "collapsed": true
   },
   "outputs": [],
   "source": [
    "class Solution:\n",
    "    \"\"\"\n",
    "    @param nums: a mountain sequence which increase firstly and then decrease\n",
    "    @return: then mountain top\n",
    "    \"\"\"\n",
    "    def mountainSequence(self, nums):\n",
    "        # write your code here\n",
    "        \n",
    "        if (nums is None) | (len(nums) == 0):\n",
    "            return 0\n",
    "            \n",
    "        start = 0\n",
    "        end = len(nums) - 1\n",
    "        \n",
    "        while (start + 1 < end):\n",
    "            \n",
    "            mid = int(start + (start - end)/2)\n",
    "            \n",
    "            if nums[mid] > nums[mid-1]:\n",
    "                start = mid\n",
    "            else:\n",
    "                end = mid\n",
    "                \n",
    "            print(start, end)\n",
    "        \n",
    "        if nums[start] < nums[end]:\n",
    "            return nums[end]\n",
    "        else:\n",
    "            return nums[start]"
   ]
  },
  {
   "cell_type": "code",
   "execution_count": 23,
   "metadata": {
    "collapsed": true
   },
   "outputs": [],
   "source": [
    "test = Solution()"
   ]
  },
  {
   "cell_type": "code",
   "execution_count": 24,
   "metadata": {
    "collapsed": false
   },
   "outputs": [
    {
     "name": "stdout",
     "output_type": "stream",
     "text": [
      "0 -2\n"
     ]
    },
    {
     "data": {
      "text/plain": [
       "6"
      ]
     },
     "execution_count": 24,
     "metadata": {},
     "output_type": "execute_result"
    }
   ],
   "source": [
    "a = [1,2,4,8,6,3]\n",
    "test.mountainSequence(a)"
   ]
  },
  {
   "cell_type": "code",
   "execution_count": 31,
   "metadata": {
    "collapsed": true
   },
   "outputs": [],
   "source": [
    "class Solution:\n",
    "    \"\"\"\n",
    "    @param: reader: An instance of ArrayReader.\n",
    "    @param: target: An integer\n",
    "    @return: An integer which is the first index of target.\n",
    "    \"\"\"\n",
    "    def searchBigSortedArray(self, reader, target):\n",
    "        # write your code here\n",
    "        \n",
    "        if (target is None) | (reader is None):\n",
    "            return -1\n",
    "            \n",
    "        curr_pt = target\n",
    "        \n",
    "        while (type(reader.get(curr_pt)) is not int):\n",
    "            curr_pt = int(target/2)\n",
    "            \n",
    "        if reader.get(curr_pt) < target:\n",
    "            start = curr_pt\n",
    "            end = curr_pt * 2\n",
    "            return binarysearch(reader, start, end, target)\n",
    "        else:\n",
    "            start = 0\n",
    "            end = curr_pt\n",
    "            return binarysearch(reader, start, end, target)\n",
    "            \n",
    "def binarysearch(reader, start, end, target):\n",
    "    \n",
    "    while (start + 1 < end):\n",
    "        mid = int((start + end) / 2)\n",
    "        \n",
    "        if (type(reader.get(mid)) is not int) | (reader.get(mid) >= target):\n",
    "            end = mid\n",
    "        else:\n",
    "            start = mid\n",
    "    \n",
    "    if reader.get(start) == target:\n",
    "        return start\n",
    "    elif reader.get(end) == target:\n",
    "        return end\n",
    "    else:\n",
    "        return -1"
   ]
  },
  {
   "cell_type": "code",
   "execution_count": 32,
   "metadata": {
    "collapsed": true
   },
   "outputs": [],
   "source": [
    "test = Solution()"
   ]
  },
  {
   "cell_type": "code",
   "execution_count": 33,
   "metadata": {
    "collapsed": false
   },
   "outputs": [],
   "source": [
    "a = [[1,1,1,1,2,2,3,3,3,4,4,4,5,5,5,5,5,5,5,6,6,6,6,6,6,7,7,7,8,8,8,8,9,9,9,9,10,10,10,10,10,10,10,10,10,11,11,11,11,12,12,12,13,13,13,13,13,14,14,14,14,14,15,15,15,15,15,15,15,16,16,16,16,16,16,16,16,16,17,17,17,17,17,17,17,18,18,19,19,19,19,20,20,20,20,20,20,20,20,20]]"
   ]
  },
  {
   "cell_type": "code",
   "execution_count": 34,
   "metadata": {
    "collapsed": false
   },
   "outputs": [
    {
     "ename": "AttributeError",
     "evalue": "'list' object has no attribute 'get'",
     "output_type": "error",
     "traceback": [
      "\u001b[0;31m---------------------------------------------------------------------------\u001b[0m",
      "\u001b[0;31mAttributeError\u001b[0m                            Traceback (most recent call last)",
      "\u001b[0;32m<ipython-input-34-9f06eea6a0ba>\u001b[0m in \u001b[0;36m<module>\u001b[0;34m()\u001b[0m\n\u001b[0;32m----> 1\u001b[0;31m \u001b[0mtest\u001b[0m\u001b[0;34m.\u001b[0m\u001b[0msearchBigSortedArray\u001b[0m\u001b[0;34m(\u001b[0m\u001b[0ma\u001b[0m\u001b[0;34m,\u001b[0m \u001b[0;36m4\u001b[0m\u001b[0;34m)\u001b[0m\u001b[0;34m\u001b[0m\u001b[0m\n\u001b[0m",
      "\u001b[0;32m<ipython-input-31-0e147f46640f>\u001b[0m in \u001b[0;36msearchBigSortedArray\u001b[0;34m(self, reader, target)\u001b[0m\n\u001b[1;32m     13\u001b[0m         \u001b[0mcurr_pt\u001b[0m \u001b[0;34m=\u001b[0m \u001b[0mtarget\u001b[0m\u001b[0;34m\u001b[0m\u001b[0m\n\u001b[1;32m     14\u001b[0m \u001b[0;34m\u001b[0m\u001b[0m\n\u001b[0;32m---> 15\u001b[0;31m         \u001b[0;32mwhile\u001b[0m \u001b[0;34m(\u001b[0m\u001b[0mtype\u001b[0m\u001b[0;34m(\u001b[0m\u001b[0mreader\u001b[0m\u001b[0;34m.\u001b[0m\u001b[0mget\u001b[0m\u001b[0;34m(\u001b[0m\u001b[0mcurr_pt\u001b[0m\u001b[0;34m)\u001b[0m\u001b[0;34m)\u001b[0m \u001b[0;32mis\u001b[0m \u001b[0;32mnot\u001b[0m \u001b[0mint\u001b[0m\u001b[0;34m)\u001b[0m\u001b[0;34m:\u001b[0m\u001b[0;34m\u001b[0m\u001b[0m\n\u001b[0m\u001b[1;32m     16\u001b[0m             \u001b[0mcurr_pt\u001b[0m \u001b[0;34m=\u001b[0m \u001b[0mint\u001b[0m\u001b[0;34m(\u001b[0m\u001b[0mtarget\u001b[0m\u001b[0;34m/\u001b[0m\u001b[0;36m2\u001b[0m\u001b[0;34m)\u001b[0m\u001b[0;34m\u001b[0m\u001b[0m\n\u001b[1;32m     17\u001b[0m \u001b[0;34m\u001b[0m\u001b[0m\n",
      "\u001b[0;31mAttributeError\u001b[0m: 'list' object has no attribute 'get'"
     ]
    }
   ],
   "source": [
    "test.searchBigSortedArray(a, 4)"
   ]
  },
  {
   "cell_type": "code",
   "execution_count": null,
   "metadata": {
    "collapsed": true
   },
   "outputs": [],
   "source": []
  }
 ],
 "metadata": {
  "kernelspec": {
   "display_name": "Python 3",
   "language": "python",
   "name": "python3"
  },
  "language_info": {
   "codemirror_mode": {
    "name": "ipython",
    "version": 3
   },
   "file_extension": ".py",
   "mimetype": "text/x-python",
   "name": "python",
   "nbconvert_exporter": "python",
   "pygments_lexer": "ipython3",
   "version": "3.5.2"
  }
 },
 "nbformat": 4,
 "nbformat_minor": 2
}
