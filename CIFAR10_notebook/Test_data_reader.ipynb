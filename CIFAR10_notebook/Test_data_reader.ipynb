{
 "cells": [
  {
   "cell_type": "markdown",
   "metadata": {
    "deletable": true,
    "editable": true
   },
   "source": [
    "Test the data queuing and distortion and augmentation"
   ]
  },
  {
   "cell_type": "code",
   "execution_count": null,
   "metadata": {
    "collapsed": false,
    "deletable": true,
    "editable": true
   },
   "outputs": [],
   "source": [
    "import numpy as np\n",
    "import tensorflow as tf\n",
    "from local_lr import cifar10_input\n",
    "import os\n",
    "import tarfile\n",
    "import sys\n",
    "from six.moves import urllib\n",
    "\n",
    "import matplotlib.pyplot as plt\n",
    "% matplotlib inline"
   ]
  },
  {
   "cell_type": "code",
   "execution_count": null,
   "metadata": {
    "collapsed": false,
    "deletable": true,
    "editable": true
   },
   "outputs": [
    {
     "name": "stdout",
     "output_type": "stream",
     "text": [
      "Successfullly downloaded cifar-10-binary.tar.gz 170052171 .bytes\n"
     ]
    }
   ],
   "source": [
    "# Load data from Alex websited and save locally\n",
    "\n",
    "FLAGS = tf.app.flags.FLAGS\n",
    "\n",
    "tf.app.flags.DEFINE_string(\"data_dir\", \"/tmp/cifar10_data\", \"\"\"Path to the CIFAR10-data director\"\"\")\n",
    "tf.app.flags.DEFINE_integer('batch_size', 128, \"\"\"Numbers of images to process in a batch.\"\"\")\n",
    "\n",
    "\n",
    "DATA_URL = 'https://www.cs.toronto.edu/~kriz/cifar-10-binary.tar.gz'\n",
    "\n",
    "if not FLAGS.data_dir:\n",
    "    raise ValueError('Please supply a data_dir')\n",
    "    \n",
    "data_dir = os.path.join(FLAGS.data_dir, 'cifar10-batches-bin')\n",
    "\n",
    "dest_directory = FLAGS.data_dir\n",
    "\n",
    "if not os.path.exists(dest_directory):\n",
    "    os.makedirs(dest_directory)\n",
    "    \n",
    "filename = DATA_URL.split('/')[-1]\n",
    "filepath = os.path.join(dest_directory, filename)\n",
    "\n",
    "if not os.path.exists(filepath):\n",
    "    filepath, _ = urllib.request.urlretrieve(DATA_URL, filepath)\n",
    "    statsinfo = os.stat(filepath)\n",
    "    print('Successfullly downloaded', filename, statsinfo.st_size, '.bytes')\n",
    "extracted_dir_path = os.path.join(dest_directory, 'cifar-10-batches-bin')\n",
    "\n",
    "if not os.path.exists(extracted_dir_path):\n",
    "    tarfile.open(filepath, 'r:gz').extractall(dest_directory)"
   ]
  },
  {
   "cell_type": "code",
   "execution_count": null,
   "metadata": {
    "collapsed": true,
    "deletable": true,
    "editable": true
   },
   "outputs": [],
   "source": [
    "# Create shuffled or unshuffled batch\n",
    "def _generate_image_and_label_batch(image, label, min_queue_examples, batch_size, shuffle):\n",
    "    \n",
    "    num_process_thread = 16\n",
    "    if shuffle:\n",
    "        images, label_batch = tf.train.shuffle_batch([image, label], batch_size=batch_size, num_threads=num_process_thread, \n",
    "                                                    capacity=min_queue_examples + 3 * batch_size, min_after_dequeue=min_queue_examples)\n",
    "    else:\n",
    "        images, label_batch = tf.train.batch([image, label], batch_size=batch_size, num_threads=num_process_thread, capacity=min_queue_examples + 3 * batch_size)\n",
    "    \n",
    "    tf.summary.image('images', images)\n",
    "    \n",
    "    return images, tf.reshape(label_batch, [batch_size])"
   ]
  },
  {
   "cell_type": "code",
   "execution_count": null,
   "metadata": {
    "collapsed": true,
    "deletable": true,
    "editable": true
   },
   "outputs": [],
   "source": [
    "# Extract image data from the queue information and return object with image, label and other information\n",
    "\n",
    "def read_cifar10(filename_queue):\n",
    "    \n",
    "    class CIFAR10Record(object):\n",
    "        pass\n",
    "    \n",
    "    result = CIFAR10Record()\n",
    "    \n",
    "    label_bytes = 1\n",
    "    result.height = 32\n",
    "    result.width = 32\n",
    "    result.depth = 3\n",
    "    \n",
    "    image_bytes = result.height * result.width + result.depth\n",
    "    \n",
    "    record_bytes = label_bytes + image_bytes\n",
    "    \n",
    "    reader = tf.FixedLengthRecordReader(record_bytes=record_bytes)\n",
    "    result.key, value = reader.read(filename_queue)\n",
    "    \n",
    "    record_bytes = tf.decode_raw(value, tf.uint8)\n",
    "    result.label = tf.cast(tf.strided_slice(record_bytes, [0], [label_bytes]), tf.int32)\n",
    "    \n",
    "    depth_major = tf.reshape(tf.strided_slice(record_bytes, [label_bytes], [label_bytes+image_bytes]), [result.depth, result.height, result.width])\n",
    "    result.unit8image = tf.transpose(depth_major, [1,2,0])\n",
    "    \n",
    "    return result"
   ]
  },
  {
   "cell_type": "code",
   "execution_count": null,
   "metadata": {
    "collapsed": false,
    "deletable": true,
    "editable": true
   },
   "outputs": [
    {
     "name": "stdout",
     "output_type": "stream",
     "text": [
      "Filling queue with 20000 CIFAR images before starting to train.This will takge a few minutes.\n"
     ]
    }
   ],
   "source": [
    "# Generate images and labels after augmentation, pre-precessing and batching\n",
    "data_dir = os.path.join(FLAGS.data_dir, 'cifar10-batches-bin')\n",
    "# ages, labels = distorted_input(data_dir = data_dir, batch_size=FLAGS.batch_size)\n",
    "IMAGE_SIZE = 32\n",
    "NUM_EXAMPLES_PER_EPOCH_FOR_TRAIN = 50000\n",
    "\n",
    "batch_size = FLAGS.batch_size\n",
    "\n",
    "filename = [os.path.join(data_dir, 'data_batch_%d.bin' % i) for i in range(1, 6)]\n",
    "\n",
    "filename_queue = tf.train.string_input_producer(filename)\n",
    "\n",
    "with tf.name_scope('data_augmentation'):\n",
    "    \n",
    "    read_input = read_cifar10(filename_queue)\n",
    "    reshaped_image = tf.cast(read_input.unit8image, tf.float32)\n",
    "    \n",
    "    height = IMAGE_SIZE\n",
    "    width = IMAGE_SIZE\n",
    "    \n",
    "    distorted_image = tf.random_crop(reshaped_image, [height, width, 3])\n",
    "    \n",
    "    distorted_image = tf.image.random_flip_left_right(distorted_image)\n",
    "    \n",
    "    distorted_image = tf.image.random_brightness(distorted_image, max_delta=63)\n",
    "    \n",
    "    distorted_image = tf.image.random_contrast(distorted_image, lower=0.2, upper = 1.8)\n",
    "    \n",
    "    float_image = tf.image.per_image_standardization(distorted_image)\n",
    "    \n",
    "    float_image.set_shape([height, width, 3])\n",
    "    read_input.label.set_shape([1])\n",
    "    \n",
    "    min_fraction_of_examples_in_queue = 0.4\n",
    "    min_queue_examples = int(NUM_EXAMPLES_PER_EPOCH_FOR_TRAIN * min_fraction_of_examples_in_queue)\n",
    "    \n",
    "    print('Filling queue with %d CIFAR images before starting to train.This will takge a few minutes.' % min_queue_examples)\n",
    "curr_batch_image, curr_batch_label = _generate_image_and_label_batch(float_image, read_input.label, min_queue_examples, batch_size, shuffle=True)"
   ]
  },
  {
   "cell_type": "code",
   "execution_count": null,
   "metadata": {
    "collapsed": true,
    "deletable": true,
    "editable": true
   },
   "outputs": [],
   "source": [
    "# Build the network"
   ]
  },
  {
   "cell_type": "code",
   "execution_count": null,
   "metadata": {
    "collapsed": true,
    "deletable": true,
    "editable": true
   },
   "outputs": [],
   "source": [
    "# Build the trainer"
   ]
  },
  {
   "cell_type": "code",
   "execution_count": null,
   "metadata": {
    "collapsed": true,
    "deletable": true,
    "editable": true
   },
   "outputs": [],
   "source": [
    "# Evaluate model performance"
   ]
  },
  {
   "cell_type": "code",
   "execution_count": null,
   "metadata": {
    "collapsed": true,
    "deletable": true,
    "editable": true
   },
   "outputs": [],
   "source": [
    "# Improve the model"
   ]
  }
 ],
 "metadata": {
  "kernelspec": {
   "display_name": "Python 3",
   "language": "python",
   "name": "python3"
  },
  "language_info": {
   "codemirror_mode": {
    "name": "ipython",
    "version": 3
   },
   "file_extension": ".py",
   "mimetype": "text/x-python",
   "name": "python",
   "nbconvert_exporter": "python",
   "pygments_lexer": "ipython3",
   "version": "3.5.2"
  }
 },
 "nbformat": 4,
 "nbformat_minor": 2
}
